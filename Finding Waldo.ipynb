{
 "cells": [
  {
   "cell_type": "markdown",
   "metadata": {},
   "source": [
    "## We are using the template matching algorithm from OpenCV"
   ]
  },
  {
   "cell_type": "code",
   "execution_count": 3,
   "metadata": {},
   "outputs": [],
   "source": [
    "import cv2\n",
    "import numpy as np"
   ]
  },
  {
   "cell_type": "code",
   "execution_count": 6,
   "metadata": {},
   "outputs": [],
   "source": [
    "#Loading the image and then converting it to greyscale\n",
    "\n",
    "image = cv2.imread('waldo.jpg')\n",
    "##cv2.imshow('Find Waldo Quickly', image)\n",
    "cv2.waitKey(0)                                                        # Wait for infinite time till the key is pressed\n",
    "\n",
    "# if keywaitstroke == 27:                                             # Wait till the escape key is pressed \n",
    "#    cv2.destroyAllWindows()\n",
    "\n",
    "# Converting the image to greyscale\n",
    "grey = cv2.cvtColor(image,cv2.COLOR_BGR2GRAY)\n",
    "\n",
    "# Loading the template image\n",
    "template = cv2.imread('find.png',0)                                   # 0 helps in loading the image in greyscale mode\n",
    "# cv2.imshow('Waldo',template)\n",
    "# keywaitstroke = cv2.waitKey(0)                                      # Wait for infinite time till the key is pressed\n",
    "\n",
    "\n",
    "result  = cv2.matchTemplate(template,grey,cv2.TM_CCOEFF)              # Finding template image in the grey image\n",
    "                                                                      # We're using the corelation coefficient method\n",
    "\n",
    "# result gives us an array of the matching algorithm\n",
    "\n",
    "min_val, max_val, min_loc,max_loc = cv2.minMaxLoc(result)             # return us the coordinates of the rectangular box\n",
    "                                                                      # where the template image is found in grey image.\n",
    "    \n",
    "    \n",
    "# Creating the bounding box\n",
    "\n",
    "top_left = max_loc\n",
    "bottom_right = (top_left[0] + 40, top_left[1] + 40 )\n",
    "cv2.rectangle(image, top_left, bottom_right,(255,0,0), 5)\n",
    "\n",
    "cv2.imshow('Waldo Spotted', image)\n",
    "cv2.imwrite( \"Waldo Spotted.jpg\", image);\n",
    "cv2.waitKey(0)\n",
    "cv2.destroyAllWindows()"
   ]
  },
  {
   "cell_type": "code",
   "execution_count": null,
   "metadata": {},
   "outputs": [],
   "source": []
  }
 ],
 "metadata": {
  "kernelspec": {
   "display_name": "Python 2",
   "language": "python",
   "name": "python2"
  },
  "language_info": {
   "codemirror_mode": {
    "name": "ipython",
    "version": 2
   },
   "file_extension": ".py",
   "mimetype": "text/x-python",
   "name": "python",
   "nbconvert_exporter": "python",
   "pygments_lexer": "ipython2",
   "version": "2.7.12"
  }
 },
 "nbformat": 4,
 "nbformat_minor": 2
}
